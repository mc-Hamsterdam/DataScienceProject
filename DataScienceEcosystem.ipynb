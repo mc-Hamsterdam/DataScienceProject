{
 "cells": [
  {
   "cell_type": "markdown",
   "id": "a606c1d1-e911-4bd6-814e-0912406080ac",
   "metadata": {},
   "source": [
    "# Data Science Tools and Ecosystem"
   ]
  },
  {
   "cell_type": "markdown",
   "id": "953f9ceb-3ad0-45e9-ace9-620bf895e332",
   "metadata": {},
   "source": [
    "In this notebook, Data Science Tools and Ecosystem are summarized."
   ]
  },
  {
   "cell_type": "markdown",
   "id": "6b0b8621-d501-4a99-8da9-866689867112",
   "metadata": {},
   "source": [
    "**Objectives:**\n",
    "- Compare open source with free software\n",
    "- Identify the users of the R language\n",
    "- Listing the benefits of using R\n",
    "- Identify the users of Python\n",
    "- Lists the benfeits of Python\n",
    "  "
   ]
  },
  {
   "cell_type": "markdown",
   "id": "efa2b753-8b33-4600-8e97-bee660977a7d",
   "metadata": {},
   "source": [
    "Some of the popular languages that Data Scientists use are:"
   ]
  },
  {
   "cell_type": "markdown",
   "id": "261eec20-3e89-4762-9819-0f3340600788",
   "metadata": {},
   "source": [
    "1. Python\n",
    "2. R\n",
    "3. SQL\n",
    "4. Julia\n",
    "5. Scala\n",
    "6. C++\n",
    "7. Java\n",
    "8. JavaScript"
   ]
  },
  {
   "cell_type": "markdown",
   "id": "81264e4b-6d1a-4a29-8538-f95929f09d88",
   "metadata": {},
   "source": [
    "Some of the commonly used libraries used by Data Scientists include:"
   ]
  },
  {
   "cell_type": "markdown",
   "id": "83d00316-21cb-47cf-ad36-7f3b18bb618b",
   "metadata": {},
   "source": [
    "1. Pandas\n",
    "2. Numpy\n",
    "3. Matplotlib\n",
    "4. Seaborn\n",
    "5. Scikit-learn\n",
    "6. Keras\n",
    "7. Tensorflow\n",
    "8. PyTorch\n"
   ]
  },
  {
   "cell_type": "markdown",
   "id": "befe62fd-fb0a-46fd-a5b9-16119b212e1c",
   "metadata": {},
   "source": [
    "|Data Science Tools|\n",
    "|------------------|\n",
    "|    JupyterLab    |\n",
    "|     Rstudio      |\n",
    "|    ApacheSpark   |\n",
    " "
   ]
  },
  {
   "cell_type": "markdown",
   "id": "c14ae2af-729a-4ded-a706-db23e9160061",
   "metadata": {},
   "source": [
    "### Below are a few examples of evaluating arithmetic expressions in Python"
   ]
  },
  {
   "cell_type": "code",
   "execution_count": 1,
   "id": "cea83256-afd7-4163-a8db-8091ca9b25fe",
   "metadata": {},
   "outputs": [
    {
     "data": {
      "text/plain": [
       "17"
      ]
     },
     "execution_count": 1,
     "metadata": {},
     "output_type": "execute_result"
    }
   ],
   "source": [
    "# This a simple arithmetic expression to mutiply then add integers\n",
    "(3*4)+5\n"
   ]
  },
  {
   "cell_type": "code",
   "execution_count": 2,
   "id": "1cad11f1-2a4f-474d-a0bc-8436f53a77bf",
   "metadata": {},
   "outputs": [
    {
     "name": "stdout",
     "output_type": "stream",
     "text": [
      "3.3333333333333335\n"
     ]
    }
   ],
   "source": [
    "#This will convert 200 minutes to hours by dividing by 60\n",
    "mins = 200\n",
    "hrs = 60\n",
    "hours = (mins/hrs)\n",
    "print(hours)\n"
   ]
  },
  {
   "cell_type": "markdown",
   "id": "8fa47290-36a2-4ca1-99b4-311f84316303",
   "metadata": {},
   "source": [
    "## Author\n",
    "Ma Clarissa Solomon"
   ]
  },
  {
   "cell_type": "code",
   "execution_count": null,
   "id": "2a4983b4-8015-4851-935f-b92b76fa0d67",
   "metadata": {},
   "outputs": [],
   "source": []
  }
 ],
 "metadata": {
  "kernelspec": {
   "display_name": "Python 3 (ipykernel)",
   "language": "python",
   "name": "python3"
  },
  "language_info": {
   "codemirror_mode": {
    "name": "ipython",
    "version": 3
   },
   "file_extension": ".py",
   "mimetype": "text/x-python",
   "name": "python",
   "nbconvert_exporter": "python",
   "pygments_lexer": "ipython3",
   "version": "3.11.9"
  }
 },
 "nbformat": 4,
 "nbformat_minor": 5
}
